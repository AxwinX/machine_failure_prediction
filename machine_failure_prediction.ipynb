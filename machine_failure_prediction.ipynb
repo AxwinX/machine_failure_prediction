{
 "cells": [
  {
   "cell_type": "code",
   "execution_count": 196,
   "id": "2541d76e-729a-4a6d-bc9d-7ca4a7e2544a",
   "metadata": {},
   "outputs": [],
   "source": [
    "#Importing all required modules"
   ]
  },
  {
   "cell_type": "code",
   "execution_count": 122,
   "id": "70fe48af-80bc-48d0-8c77-b4e03d140801",
   "metadata": {},
   "outputs": [],
   "source": [
    "import pandas as pd\n",
    "import numpy as np\n",
    "import seaborn as sns\n",
    "import matplotlib.pyplot as plt\n",
    "from sklearn.model_selection import train_test_split\n",
    "from sklearn.preprocessing import StandardScaler\n",
    "from sklearn.linear_model import LogisticRegression\n",
    "from sklearn.ensemble import RandomForestClassifier, GradientBoostingClassifier\n",
    "from sklearn.svm import SVC\n",
    "from imblearn.over_sampling import SMOTE\n",
    "from sklearn.neighbors import KNeighborsClassifier\n",
    "from sklearn.metrics import accuracy_score, precision_score, recall_score, f1_score, roc_auc_score"
   ]
  },
  {
   "cell_type": "code",
   "execution_count": 123,
   "id": "31fdd1de-bc39-443c-a62b-da847c12fa54",
   "metadata": {},
   "outputs": [
    {
     "data": {
      "text/html": [
       "<div>\n",
       "<style scoped>\n",
       "    .dataframe tbody tr th:only-of-type {\n",
       "        vertical-align: middle;\n",
       "    }\n",
       "\n",
       "    .dataframe tbody tr th {\n",
       "        vertical-align: top;\n",
       "    }\n",
       "\n",
       "    .dataframe thead th {\n",
       "        text-align: right;\n",
       "    }\n",
       "</style>\n",
       "<table border=\"1\" class=\"dataframe\">\n",
       "  <thead>\n",
       "    <tr style=\"text-align: right;\">\n",
       "      <th></th>\n",
       "      <th>footfall</th>\n",
       "      <th>tempMode</th>\n",
       "      <th>AQ</th>\n",
       "      <th>USS</th>\n",
       "      <th>CS</th>\n",
       "      <th>VOC</th>\n",
       "      <th>RP</th>\n",
       "      <th>IP</th>\n",
       "      <th>Temperature</th>\n",
       "      <th>fail</th>\n",
       "    </tr>\n",
       "  </thead>\n",
       "  <tbody>\n",
       "    <tr>\n",
       "      <th>0</th>\n",
       "      <td>0</td>\n",
       "      <td>7</td>\n",
       "      <td>7</td>\n",
       "      <td>1</td>\n",
       "      <td>6</td>\n",
       "      <td>6</td>\n",
       "      <td>36</td>\n",
       "      <td>3</td>\n",
       "      <td>1</td>\n",
       "      <td>1</td>\n",
       "    </tr>\n",
       "    <tr>\n",
       "      <th>1</th>\n",
       "      <td>190</td>\n",
       "      <td>1</td>\n",
       "      <td>3</td>\n",
       "      <td>3</td>\n",
       "      <td>5</td>\n",
       "      <td>1</td>\n",
       "      <td>20</td>\n",
       "      <td>4</td>\n",
       "      <td>1</td>\n",
       "      <td>0</td>\n",
       "    </tr>\n",
       "    <tr>\n",
       "      <th>2</th>\n",
       "      <td>31</td>\n",
       "      <td>7</td>\n",
       "      <td>2</td>\n",
       "      <td>2</td>\n",
       "      <td>6</td>\n",
       "      <td>1</td>\n",
       "      <td>24</td>\n",
       "      <td>6</td>\n",
       "      <td>1</td>\n",
       "      <td>0</td>\n",
       "    </tr>\n",
       "    <tr>\n",
       "      <th>3</th>\n",
       "      <td>83</td>\n",
       "      <td>4</td>\n",
       "      <td>3</td>\n",
       "      <td>4</td>\n",
       "      <td>5</td>\n",
       "      <td>1</td>\n",
       "      <td>28</td>\n",
       "      <td>6</td>\n",
       "      <td>1</td>\n",
       "      <td>0</td>\n",
       "    </tr>\n",
       "    <tr>\n",
       "      <th>4</th>\n",
       "      <td>640</td>\n",
       "      <td>7</td>\n",
       "      <td>5</td>\n",
       "      <td>6</td>\n",
       "      <td>4</td>\n",
       "      <td>0</td>\n",
       "      <td>68</td>\n",
       "      <td>6</td>\n",
       "      <td>1</td>\n",
       "      <td>0</td>\n",
       "    </tr>\n",
       "  </tbody>\n",
       "</table>\n",
       "</div>"
      ],
      "text/plain": [
       "   footfall  tempMode  AQ  USS  CS  VOC  RP  IP  Temperature  fail\n",
       "0         0         7   7    1   6    6  36   3            1     1\n",
       "1       190         1   3    3   5    1  20   4            1     0\n",
       "2        31         7   2    2   6    1  24   6            1     0\n",
       "3        83         4   3    4   5    1  28   6            1     0\n",
       "4       640         7   5    6   4    0  68   6            1     0"
      ]
     },
     "execution_count": 123,
     "metadata": {},
     "output_type": "execute_result"
    }
   ],
   "source": [
    "data = pd.read_csv(\"data (1).csv\")\n",
    "data.head()"
   ]
  },
  {
   "cell_type": "code",
   "execution_count": 124,
   "id": "8b4b4697-fc46-492f-bffd-0090a4e0cc10",
   "metadata": {},
   "outputs": [],
   "source": [
    "#I have imported the data succesfully without any errors"
   ]
  },
  {
   "cell_type": "code",
   "execution_count": 125,
   "id": "bb6a3a4b-723b-4230-b4bb-507ce3ecc5b3",
   "metadata": {},
   "outputs": [
    {
     "name": "stdout",
     "output_type": "stream",
     "text": [
      "<class 'pandas.core.frame.DataFrame'>\n",
      "RangeIndex: 944 entries, 0 to 943\n",
      "Data columns (total 10 columns):\n",
      " #   Column       Non-Null Count  Dtype\n",
      "---  ------       --------------  -----\n",
      " 0   footfall     944 non-null    int64\n",
      " 1   tempMode     944 non-null    int64\n",
      " 2   AQ           944 non-null    int64\n",
      " 3   USS          944 non-null    int64\n",
      " 4   CS           944 non-null    int64\n",
      " 5   VOC          944 non-null    int64\n",
      " 6   RP           944 non-null    int64\n",
      " 7   IP           944 non-null    int64\n",
      " 8   Temperature  944 non-null    int64\n",
      " 9   fail         944 non-null    int64\n",
      "dtypes: int64(10)\n",
      "memory usage: 73.9 KB\n"
     ]
    }
   ],
   "source": [
    "data.info()"
   ]
  },
  {
   "cell_type": "code",
   "execution_count": 126,
   "id": "4a185a47-f237-4f9a-b897-b2370150fc32",
   "metadata": {},
   "outputs": [],
   "source": [
    "#From info() I found out that there are 944 entries in each attribute with data type as int64(10)"
   ]
  },
  {
   "cell_type": "code",
   "execution_count": 127,
   "id": "5fe1b0a2-68f4-4c62-b9d8-aceb2c8c6282",
   "metadata": {},
   "outputs": [
    {
     "data": {
      "text/html": [
       "<div>\n",
       "<style scoped>\n",
       "    .dataframe tbody tr th:only-of-type {\n",
       "        vertical-align: middle;\n",
       "    }\n",
       "\n",
       "    .dataframe tbody tr th {\n",
       "        vertical-align: top;\n",
       "    }\n",
       "\n",
       "    .dataframe thead th {\n",
       "        text-align: right;\n",
       "    }\n",
       "</style>\n",
       "<table border=\"1\" class=\"dataframe\">\n",
       "  <thead>\n",
       "    <tr style=\"text-align: right;\">\n",
       "      <th></th>\n",
       "      <th>footfall</th>\n",
       "      <th>tempMode</th>\n",
       "      <th>AQ</th>\n",
       "      <th>USS</th>\n",
       "      <th>CS</th>\n",
       "      <th>VOC</th>\n",
       "      <th>RP</th>\n",
       "      <th>IP</th>\n",
       "      <th>Temperature</th>\n",
       "      <th>fail</th>\n",
       "    </tr>\n",
       "  </thead>\n",
       "  <tbody>\n",
       "    <tr>\n",
       "      <th>count</th>\n",
       "      <td>944.000000</td>\n",
       "      <td>944.000000</td>\n",
       "      <td>944.000000</td>\n",
       "      <td>944.000000</td>\n",
       "      <td>944.000000</td>\n",
       "      <td>944.000000</td>\n",
       "      <td>944.000000</td>\n",
       "      <td>944.000000</td>\n",
       "      <td>944.000000</td>\n",
       "      <td>944.000000</td>\n",
       "    </tr>\n",
       "    <tr>\n",
       "      <th>mean</th>\n",
       "      <td>306.381356</td>\n",
       "      <td>3.727754</td>\n",
       "      <td>4.325212</td>\n",
       "      <td>2.939619</td>\n",
       "      <td>5.394068</td>\n",
       "      <td>2.842161</td>\n",
       "      <td>47.043432</td>\n",
       "      <td>4.565678</td>\n",
       "      <td>16.331568</td>\n",
       "      <td>0.416314</td>\n",
       "    </tr>\n",
       "    <tr>\n",
       "      <th>std</th>\n",
       "      <td>1082.606745</td>\n",
       "      <td>2.677235</td>\n",
       "      <td>1.438436</td>\n",
       "      <td>1.383725</td>\n",
       "      <td>1.269349</td>\n",
       "      <td>2.273337</td>\n",
       "      <td>16.423130</td>\n",
       "      <td>1.599287</td>\n",
       "      <td>5.974781</td>\n",
       "      <td>0.493208</td>\n",
       "    </tr>\n",
       "    <tr>\n",
       "      <th>min</th>\n",
       "      <td>0.000000</td>\n",
       "      <td>0.000000</td>\n",
       "      <td>1.000000</td>\n",
       "      <td>1.000000</td>\n",
       "      <td>1.000000</td>\n",
       "      <td>0.000000</td>\n",
       "      <td>19.000000</td>\n",
       "      <td>1.000000</td>\n",
       "      <td>1.000000</td>\n",
       "      <td>0.000000</td>\n",
       "    </tr>\n",
       "    <tr>\n",
       "      <th>25%</th>\n",
       "      <td>1.000000</td>\n",
       "      <td>1.000000</td>\n",
       "      <td>3.000000</td>\n",
       "      <td>2.000000</td>\n",
       "      <td>5.000000</td>\n",
       "      <td>1.000000</td>\n",
       "      <td>34.000000</td>\n",
       "      <td>3.000000</td>\n",
       "      <td>14.000000</td>\n",
       "      <td>0.000000</td>\n",
       "    </tr>\n",
       "    <tr>\n",
       "      <th>50%</th>\n",
       "      <td>22.000000</td>\n",
       "      <td>3.000000</td>\n",
       "      <td>4.000000</td>\n",
       "      <td>3.000000</td>\n",
       "      <td>6.000000</td>\n",
       "      <td>2.000000</td>\n",
       "      <td>44.000000</td>\n",
       "      <td>4.000000</td>\n",
       "      <td>17.000000</td>\n",
       "      <td>0.000000</td>\n",
       "    </tr>\n",
       "    <tr>\n",
       "      <th>75%</th>\n",
       "      <td>110.000000</td>\n",
       "      <td>7.000000</td>\n",
       "      <td>6.000000</td>\n",
       "      <td>4.000000</td>\n",
       "      <td>6.000000</td>\n",
       "      <td>5.000000</td>\n",
       "      <td>58.000000</td>\n",
       "      <td>6.000000</td>\n",
       "      <td>21.000000</td>\n",
       "      <td>1.000000</td>\n",
       "    </tr>\n",
       "    <tr>\n",
       "      <th>max</th>\n",
       "      <td>7300.000000</td>\n",
       "      <td>7.000000</td>\n",
       "      <td>7.000000</td>\n",
       "      <td>7.000000</td>\n",
       "      <td>7.000000</td>\n",
       "      <td>6.000000</td>\n",
       "      <td>91.000000</td>\n",
       "      <td>7.000000</td>\n",
       "      <td>24.000000</td>\n",
       "      <td>1.000000</td>\n",
       "    </tr>\n",
       "  </tbody>\n",
       "</table>\n",
       "</div>"
      ],
      "text/plain": [
       "          footfall    tempMode          AQ         USS          CS  \\\n",
       "count   944.000000  944.000000  944.000000  944.000000  944.000000   \n",
       "mean    306.381356    3.727754    4.325212    2.939619    5.394068   \n",
       "std    1082.606745    2.677235    1.438436    1.383725    1.269349   \n",
       "min       0.000000    0.000000    1.000000    1.000000    1.000000   \n",
       "25%       1.000000    1.000000    3.000000    2.000000    5.000000   \n",
       "50%      22.000000    3.000000    4.000000    3.000000    6.000000   \n",
       "75%     110.000000    7.000000    6.000000    4.000000    6.000000   \n",
       "max    7300.000000    7.000000    7.000000    7.000000    7.000000   \n",
       "\n",
       "              VOC          RP          IP  Temperature        fail  \n",
       "count  944.000000  944.000000  944.000000   944.000000  944.000000  \n",
       "mean     2.842161   47.043432    4.565678    16.331568    0.416314  \n",
       "std      2.273337   16.423130    1.599287     5.974781    0.493208  \n",
       "min      0.000000   19.000000    1.000000     1.000000    0.000000  \n",
       "25%      1.000000   34.000000    3.000000    14.000000    0.000000  \n",
       "50%      2.000000   44.000000    4.000000    17.000000    0.000000  \n",
       "75%      5.000000   58.000000    6.000000    21.000000    1.000000  \n",
       "max      6.000000   91.000000    7.000000    24.000000    1.000000  "
      ]
     },
     "execution_count": 127,
     "metadata": {},
     "output_type": "execute_result"
    }
   ],
   "source": [
    "data.describe()"
   ]
  },
  {
   "cell_type": "code",
   "execution_count": 128,
   "id": "32887d00-1f02-4e7a-a448-f7a95190fba5",
   "metadata": {},
   "outputs": [],
   "source": [
    "#Using describe() I understood the basic Statistics of the dataset"
   ]
  },
  {
   "cell_type": "code",
   "execution_count": 129,
   "id": "c67d8b04-711b-48f8-92db-7e6afa359619",
   "metadata": {},
   "outputs": [
    {
     "data": {
      "text/plain": [
       "footfall       0\n",
       "tempMode       0\n",
       "AQ             0\n",
       "USS            0\n",
       "CS             0\n",
       "VOC            0\n",
       "RP             0\n",
       "IP             0\n",
       "Temperature    0\n",
       "fail           0\n",
       "dtype: int64"
      ]
     },
     "execution_count": 129,
     "metadata": {},
     "output_type": "execute_result"
    }
   ],
   "source": [
    "(data.isnull()).sum()"
   ]
  },
  {
   "cell_type": "code",
   "execution_count": 130,
   "id": "fc1d7cbf-5849-4dc1-8cfe-ebdc55e34fb3",
   "metadata": {},
   "outputs": [],
   "source": [
    "#By executing the above code I found there are no missing data in the dataset"
   ]
  },
  {
   "cell_type": "code",
   "execution_count": 131,
   "id": "d69e2b69-070a-40d7-9a75-b350285ee7f7",
   "metadata": {},
   "outputs": [
    {
     "name": "stdout",
     "output_type": "stream",
     "text": [
      "393\n",
      "551\n"
     ]
    }
   ],
   "source": [
    "print((data[\"fail\"] == 1).sum())\n",
    "print((data[\"fail\"] == 0).sum())"
   ]
  },
  {
   "cell_type": "code",
   "execution_count": 132,
   "id": "816febf8-5775-4eab-be68-606167407b31",
   "metadata": {},
   "outputs": [
    {
     "data": {
      "image/png": "[encoded data removed]",
      "text/plain": [
       "<Figure size 640x480 with 1 Axes>"
      ]
     },
     "metadata": {},
     "output_type": "display_data"
    }
   ],
   "source": [
    "sns.countplot(x='fail', data=data)\n",
    "plt.title('Distribution of Machine Failures')\n",
    "plt.xlabel('Failure (1) vs No Failure (0)')\n",
    "plt.ylabel('Count')\n",
    "plt.show()"
   ]
  },
  {
   "cell_type": "code",
   "execution_count": 133,
   "id": "f3e2bbe2-0c95-4f1e-9a21-8e02c4e53207",
   "metadata": {},
   "outputs": [],
   "source": [
    "#Made a simple bar graph for the distribution of target count"
   ]
  },
  {
   "cell_type": "code",
   "execution_count": 134,
   "id": "b5b10468-40c2-4347-bafa-e92dd83c797b",
   "metadata": {},
   "outputs": [],
   "source": [
    "#Now lets find the correlation between each attribute"
   ]
  },
  {
   "cell_type": "code",
   "execution_count": 135,
   "id": "45f64c40-178c-4e17-aae8-21c7422e40cb",
   "metadata": {},
   "outputs": [
    {
     "data": {
      "text/html": [
       "<div>\n",
       "<style scoped>\n",
       "    .dataframe tbody tr th:only-of-type {\n",
       "        vertical-align: middle;\n",
       "    }\n",
       "\n",
       "    .dataframe tbody tr th {\n",
       "        vertical-align: top;\n",
       "    }\n",
       "\n",
       "    .dataframe thead th {\n",
       "        text-align: right;\n",
       "    }\n",
       "</style>\n",
       "<table border=\"1\" class=\"dataframe\">\n",
       "  <thead>\n",
       "    <tr style=\"text-align: right;\">\n",
       "      <th></th>\n",
       "      <th>footfall</th>\n",
       "      <th>tempMode</th>\n",
       "      <th>AQ</th>\n",
       "      <th>USS</th>\n",
       "      <th>CS</th>\n",
       "      <th>VOC</th>\n",
       "      <th>RP</th>\n",
       "      <th>IP</th>\n",
       "      <th>Temperature</th>\n",
       "      <th>fail</th>\n",
       "    </tr>\n",
       "  </thead>\n",
       "  <tbody>\n",
       "    <tr>\n",
       "      <th>footfall</th>\n",
       "      <td>1.000000</td>\n",
       "      <td>0.020457</td>\n",
       "      <td>-0.065816</td>\n",
       "      <td>0.019453</td>\n",
       "      <td>0.025638</td>\n",
       "      <td>-0.089590</td>\n",
       "      <td>-0.043720</td>\n",
       "      <td>-0.003869</td>\n",
       "      <td>-0.018009</td>\n",
       "      <td>-0.073066</td>\n",
       "    </tr>\n",
       "    <tr>\n",
       "      <th>tempMode</th>\n",
       "      <td>0.020457</td>\n",
       "      <td>1.000000</td>\n",
       "      <td>-0.010855</td>\n",
       "      <td>0.002142</td>\n",
       "      <td>-0.013956</td>\n",
       "      <td>-0.052369</td>\n",
       "      <td>0.408784</td>\n",
       "      <td>-0.058109</td>\n",
       "      <td>-0.062568</td>\n",
       "      <td>-0.014462</td>\n",
       "    </tr>\n",
       "    <tr>\n",
       "      <th>AQ</th>\n",
       "      <td>-0.065816</td>\n",
       "      <td>-0.010855</td>\n",
       "      <td>1.000000</td>\n",
       "      <td>-0.156884</td>\n",
       "      <td>-0.090010</td>\n",
       "      <td>0.618570</td>\n",
       "      <td>0.094656</td>\n",
       "      <td>-0.105868</td>\n",
       "      <td>0.034328</td>\n",
       "      <td>0.583238</td>\n",
       "    </tr>\n",
       "    <tr>\n",
       "      <th>USS</th>\n",
       "      <td>0.019453</td>\n",
       "      <td>0.002142</td>\n",
       "      <td>-0.156884</td>\n",
       "      <td>1.000000</td>\n",
       "      <td>-0.352915</td>\n",
       "      <td>-0.399477</td>\n",
       "      <td>-0.032549</td>\n",
       "      <td>-0.206416</td>\n",
       "      <td>-0.225122</td>\n",
       "      <td>-0.466574</td>\n",
       "    </tr>\n",
       "    <tr>\n",
       "      <th>CS</th>\n",
       "      <td>0.025638</td>\n",
       "      <td>-0.013956</td>\n",
       "      <td>-0.090010</td>\n",
       "      <td>-0.352915</td>\n",
       "      <td>1.000000</td>\n",
       "      <td>0.048037</td>\n",
       "      <td>-0.026968</td>\n",
       "      <td>0.185739</td>\n",
       "      <td>0.143972</td>\n",
       "      <td>0.018855</td>\n",
       "    </tr>\n",
       "    <tr>\n",
       "      <th>VOC</th>\n",
       "      <td>-0.089590</td>\n",
       "      <td>-0.052369</td>\n",
       "      <td>0.618570</td>\n",
       "      <td>-0.399477</td>\n",
       "      <td>0.048037</td>\n",
       "      <td>1.000000</td>\n",
       "      <td>0.008023</td>\n",
       "      <td>0.103628</td>\n",
       "      <td>0.208956</td>\n",
       "      <td>0.797329</td>\n",
       "    </tr>\n",
       "    <tr>\n",
       "      <th>RP</th>\n",
       "      <td>-0.043720</td>\n",
       "      <td>0.408784</td>\n",
       "      <td>0.094656</td>\n",
       "      <td>-0.032549</td>\n",
       "      <td>-0.026968</td>\n",
       "      <td>0.008023</td>\n",
       "      <td>1.000000</td>\n",
       "      <td>-0.158841</td>\n",
       "      <td>-0.078499</td>\n",
       "      <td>0.053668</td>\n",
       "    </tr>\n",
       "    <tr>\n",
       "      <th>IP</th>\n",
       "      <td>-0.003869</td>\n",
       "      <td>-0.058109</td>\n",
       "      <td>-0.105868</td>\n",
       "      <td>-0.206416</td>\n",
       "      <td>0.185739</td>\n",
       "      <td>0.103628</td>\n",
       "      <td>-0.158841</td>\n",
       "      <td>1.000000</td>\n",
       "      <td>0.372771</td>\n",
       "      <td>0.085624</td>\n",
       "    </tr>\n",
       "    <tr>\n",
       "      <th>Temperature</th>\n",
       "      <td>-0.018009</td>\n",
       "      <td>-0.062568</td>\n",
       "      <td>0.034328</td>\n",
       "      <td>-0.225122</td>\n",
       "      <td>0.143972</td>\n",
       "      <td>0.208956</td>\n",
       "      <td>-0.078499</td>\n",
       "      <td>0.372771</td>\n",
       "      <td>1.000000</td>\n",
       "      <td>0.190257</td>\n",
       "    </tr>\n",
       "    <tr>\n",
       "      <th>fail</th>\n",
       "      <td>-0.073066</td>\n",
       "      <td>-0.014462</td>\n",
       "      <td>0.583238</td>\n",
       "      <td>-0.466574</td>\n",
       "      <td>0.018855</td>\n",
       "      <td>0.797329</td>\n",
       "      <td>0.053668</td>\n",
       "      <td>0.085624</td>\n",
       "      <td>0.190257</td>\n",
       "      <td>1.000000</td>\n",
       "    </tr>\n",
       "  </tbody>\n",
       "</table>\n",
       "</div>"
      ],
      "text/plain": [
       "             footfall  tempMode        AQ       USS        CS       VOC  \\\n",
       "footfall     1.000000  0.020457 -0.065816  0.019453  0.025638 -0.089590   \n",
       "tempMode     0.020457  1.000000 -0.010855  0.002142 -0.013956 -0.052369   \n",
       "AQ          -0.065816 -0.010855  1.000000 -0.156884 -0.090010  0.618570   \n",
       "USS          0.019453  0.002142 -0.156884  1.000000 -0.352915 -0.399477   \n",
       "CS           0.025638 -0.013956 -0.090010 -0.352915  1.000000  0.048037   \n",
       "VOC         -0.089590 -0.052369  0.618570 -0.399477  0.048037  1.000000   \n",
       "RP          -0.043720  0.408784  0.094656 -0.032549 -0.026968  0.008023   \n",
       "IP          -0.003869 -0.058109 -0.105868 -0.206416  0.185739  0.103628   \n",
       "Temperature -0.018009 -0.062568  0.034328 -0.225122  0.143972  0.208956   \n",
       "fail        -0.073066 -0.014462  0.583238 -0.466574  0.018855  0.797329   \n",
       "\n",
       "                   RP        IP  Temperature      fail  \n",
       "footfall    -0.043720 -0.003869    -0.018009 -0.073066  \n",
       "tempMode     0.408784 -0.058109    -0.062568 -0.014462  \n",
       "AQ           0.094656 -0.105868     0.034328  0.583238  \n",
       "USS         -0.032549 -0.206416    -0.225122 -0.466574  \n",
       "CS          -0.026968  0.185739     0.143972  0.018855  \n",
       "VOC          0.008023  0.103628     0.208956  0.797329  \n",
       "RP           1.000000 -0.158841    -0.078499  0.053668  \n",
       "IP          -0.158841  1.000000     0.372771  0.085624  \n",
       "Temperature -0.078499  0.372771     1.000000  0.190257  \n",
       "fail         0.053668  0.085624     0.190257  1.000000  "
      ]
     },
     "execution_count": 135,
     "metadata": {},
     "output_type": "execute_result"
    }
   ],
   "source": [
    "data_corr = data.corr()\n",
    "df = pd.DataFrame(data_corr)\n",
    "df"
   ]
  },
  {
   "cell_type": "code",
   "execution_count": 136,
   "id": "be56fda7-771e-4259-a4ad-b2fd6763bd9c",
   "metadata": {},
   "outputs": [],
   "source": [
    "#Now lets get the correlation of each attribute with \"fail\" attribute"
   ]
  },
  {
   "cell_type": "code",
   "execution_count": 137,
   "id": "6db0e39a-9811-4abc-85bc-4b8b95a5f53d",
   "metadata": {},
   "outputs": [
    {
     "name": "stdout",
     "output_type": "stream",
     "text": [
      "footfall      -0.073066\n",
      "tempMode      -0.014462\n",
      "AQ             0.583238\n",
      "USS           -0.466574\n",
      "CS             0.018855\n",
      "VOC            0.797329\n",
      "RP             0.053668\n",
      "IP             0.085624\n",
      "Temperature    0.190257\n",
      "fail           1.000000\n",
      "Name: fail, dtype: float64\n"
     ]
    }
   ],
   "source": [
    "print(data_corr[\"fail\"])"
   ]
  },
  {
   "cell_type": "code",
   "execution_count": 138,
   "id": "e8c38960-fcf8-473d-9a02-d317ddf2d989",
   "metadata": {},
   "outputs": [],
   "source": [
    "#footfall has 0.73 negative correlation | VOC has 0.79 of positive correlation | "
   ]
  },
  {
   "cell_type": "code",
   "execution_count": 139,
   "id": "a17db236-bb44-486d-8136-076b41422496",
   "metadata": {},
   "outputs": [],
   "source": [
    "#lets represent the correlation in Heatmap for data visualization"
   ]
  },
  {
   "cell_type": "code",
   "execution_count": 140,
   "id": "a212b59d-6194-45f0-8a7d-1b4ae7de0ada",
   "metadata": {},
   "outputs": [
    {
     "data": {
      "image/png": "[encoded data removed]",
      "text/plain": [
       "<Figure size 1000x800 with 2 Axes>"
      ]
     },
     "metadata": {},
     "output_type": "display_data"
    }
   ],
   "source": [
    "plt.figure(figsize=(10, 8))\n",
    "sns.heatmap(data_corr, annot=True, cmap='coolwarm')\n",
    "plt.title('Correlation Matrix')\n",
    "plt.show()"
   ]
  },
  {
   "cell_type": "code",
   "execution_count": 141,
   "id": "9f19b258-e095-49f7-9c7c-3a00deea06c6",
   "metadata": {},
   "outputs": [],
   "source": [
    "#Lets check how much Temperature affects Machine fails"
   ]
  },
  {
   "cell_type": "code",
   "execution_count": 142,
   "id": "9e9fad9e-1759-42c1-bbdc-325c560af7ff",
   "metadata": {},
   "outputs": [
    {
     "data": {
      "image/png": "[encoded data removed]",
      "text/plain": [
       "<Figure size 800x600 with 1 Axes>"
      ]
     },
     "metadata": {},
     "output_type": "display_data"
    }
   ],
   "source": [
    "plt.figure(figsize=(8, 6))\n",
    "sns.boxplot(x='fail', y='Temperature', data=data)\n",
    "plt.title('Temperature Distribution by Failure Status')\n",
    "plt.xlabel('Failure (1) vs No Failure (0)')\n",
    "plt.ylabel('Temperature')\n",
    "plt.show()"
   ]
  },
  {
   "cell_type": "code",
   "execution_count": 143,
   "id": "ae46a778-0a5b-4356-bdb1-9d0ca14a0c71",
   "metadata": {},
   "outputs": [],
   "source": [
    "#Lets go on with models"
   ]
  },
  {
   "cell_type": "code",
   "execution_count": 144,
   "id": "cc5586ea-2ff9-49c2-b433-3b02a333b87c",
   "metadata": {},
   "outputs": [],
   "source": [
    "#Seperating Independent variable to X and Dependend variable to y"
   ]
  },
  {
   "cell_type": "code",
   "execution_count": 145,
   "id": "af0f91c8-3120-487d-9179-a868add85299",
   "metadata": {},
   "outputs": [],
   "source": [
    "X = data.drop(\"fail\",axis=1)\n",
    "y = data['fail']"
   ]
  },
  {
   "cell_type": "code",
   "execution_count": 158,
   "id": "1926d856-b0da-4afb-a9f5-c4ae8cd3af5a",
   "metadata": {},
   "outputs": [],
   "source": [
    "#Lets use SMOTE to Balance the Dataset"
   ]
  },
  {
   "cell_type": "code",
   "execution_count": 159,
   "id": "ebec8793-aa6e-4314-be0d-cdd0a8ffd3f1",
   "metadata": {},
   "outputs": [],
   "source": [
    "smote = SMOTE(random_state=42)\n",
    "X_res, y_res = smote.fit_resample(X, y)"
   ]
  },
  {
   "cell_type": "code",
   "execution_count": 160,
   "id": "6821ddb1-4caa-4978-8190-cc542c742a58",
   "metadata": {},
   "outputs": [],
   "source": [
    "#Training data with train_test_split(() 80% to Train 20% for Test"
   ]
  },
  {
   "cell_type": "code",
   "execution_count": 161,
   "id": "a4bde1ec-8900-479b-a6bd-914aa653803b",
   "metadata": {},
   "outputs": [],
   "source": [
    "X_train, X_test, y_train, y_test = train_test_split(X_res, y_res, test_size=0.2, random_state=42)"
   ]
  },
  {
   "cell_type": "code",
   "execution_count": 162,
   "id": "3c1c8475-9b71-4876-aa97-54892066a9e8",
   "metadata": {},
   "outputs": [],
   "source": [
    "#Applying Normalization to scale the dataset for better accuracy"
   ]
  },
  {
   "cell_type": "code",
   "execution_count": 163,
   "id": "96209a6f-e9d0-4fa8-9f50-adb82460bc9a",
   "metadata": {},
   "outputs": [],
   "source": [
    "scaler = StandardScaler()\n",
    "X_train = scaler.fit_transform(X_train)\n",
    "X_test = scaler.transform(X_test)"
   ]
  },
  {
   "cell_type": "code",
   "execution_count": 164,
   "id": "5bfd4a49-5c25-4e0d-a369-d073d3b91978",
   "metadata": {},
   "outputs": [],
   "source": [
    "#With the help of GOOGLE I found out there are other models used to train binary output model some are: \n",
    "#[Logistic Regression,Random Forest Classifier,Gradient Boosting Classifier,Support Vector Machine (SVM),K-Nearest Neighbors (KNN)]"
   ]
  },
  {
   "cell_type": "code",
   "execution_count": 165,
   "id": "ab39162d-8d1e-499c-97b2-c4efc2db3650",
   "metadata": {},
   "outputs": [],
   "source": [
    "#Hence I'm going to train all model and compare the accurary level to train my main model"
   ]
  },
  {
   "cell_type": "code",
   "execution_count": 166,
   "id": "2d49efef-bc40-49ec-b19e-b94992d1aed9",
   "metadata": {},
   "outputs": [],
   "source": [
    "test_models = {\n",
    "    'Logistic Regression': LogisticRegression(random_state=42),\n",
    "    'Random Forest': RandomForestClassifier(random_state=42),\n",
    "    'Gradient Boosting': GradientBoostingClassifier(random_state=42),\n",
    "    'SVM': SVC(random_state=42),\n",
    "    'KNN': KNeighborsClassifier()\n",
    "}"
   ]
  },
  {
   "cell_type": "code",
   "execution_count": 167,
   "id": "457805f0-cedb-4d43-90f8-a23ca24e6af0",
   "metadata": {},
   "outputs": [],
   "source": [
    "#I'm scoring Accuracy, Precision, Recall, f1, roc_auc"
   ]
  },
  {
   "cell_type": "code",
   "execution_count": 168,
   "id": "f5142b2a-edce-4d1c-9f74-929a538ee575",
   "metadata": {},
   "outputs": [],
   "source": [
    "results = []\n",
    "for name,model in test_models.items():\n",
    "    model.fit(X_train, y_train)\n",
    "    y_pred = model.predict(X_test)\n",
    "    accuracy = int((accuracy_score(y_test, y_pred))*100)\n",
    "    precision = int((precision_score(y_test, y_pred))*100)\n",
    "    recall = int((recall_score(y_test, y_pred))*100)\n",
    "    f1 = int((f1_score(y_test, y_pred))*100)\n",
    "    roc_auc = int((roc_auc_score(y_test, y_pred))*100)\n",
    "    total_score = (sum([accuracy, precision, recall, f1, roc_auc])/500)*100\n",
    "    results.append([name,accuracy, precision, recall, f1, roc_auc, total_score])"
   ]
  },
  {
   "cell_type": "code",
   "execution_count": 169,
   "id": "48fd9401-f84d-44ab-b308-788a188f7a93",
   "metadata": {},
   "outputs": [],
   "source": [
    "#Lets check the result in Percentage"
   ]
  },
  {
   "cell_type": "code",
   "execution_count": 170,
   "id": "23dd4402-b043-44d6-bbc6-1f4bc67f17c4",
   "metadata": {},
   "outputs": [
    {
     "data": {
      "text/html": [
       "<div>\n",
       "<style scoped>\n",
       "    .dataframe tbody tr th:only-of-type {\n",
       "        vertical-align: middle;\n",
       "    }\n",
       "\n",
       "    .dataframe tbody tr th {\n",
       "        vertical-align: top;\n",
       "    }\n",
       "\n",
       "    .dataframe thead th {\n",
       "        text-align: right;\n",
       "    }\n",
       "</style>\n",
       "<table border=\"1\" class=\"dataframe\">\n",
       "  <thead>\n",
       "    <tr style=\"text-align: right;\">\n",
       "      <th></th>\n",
       "      <th>Model</th>\n",
       "      <th>Accuracy</th>\n",
       "      <th>Precision</th>\n",
       "      <th>Recall</th>\n",
       "      <th>F1-Score</th>\n",
       "      <th>ROC-AUC</th>\n",
       "      <th>Total_Score</th>\n",
       "    </tr>\n",
       "  </thead>\n",
       "  <tbody>\n",
       "    <tr>\n",
       "      <th>0</th>\n",
       "      <td>Logistic Regression</td>\n",
       "      <td>91</td>\n",
       "      <td>89</td>\n",
       "      <td>93</td>\n",
       "      <td>91</td>\n",
       "      <td>91</td>\n",
       "      <td>91.0</td>\n",
       "    </tr>\n",
       "    <tr>\n",
       "      <th>1</th>\n",
       "      <td>Random Forest</td>\n",
       "      <td>90</td>\n",
       "      <td>91</td>\n",
       "      <td>88</td>\n",
       "      <td>90</td>\n",
       "      <td>90</td>\n",
       "      <td>89.8</td>\n",
       "    </tr>\n",
       "    <tr>\n",
       "      <th>2</th>\n",
       "      <td>Gradient Boosting</td>\n",
       "      <td>90</td>\n",
       "      <td>91</td>\n",
       "      <td>89</td>\n",
       "      <td>90</td>\n",
       "      <td>90</td>\n",
       "      <td>90.0</td>\n",
       "    </tr>\n",
       "    <tr>\n",
       "      <th>3</th>\n",
       "      <td>SVM</td>\n",
       "      <td>91</td>\n",
       "      <td>92</td>\n",
       "      <td>91</td>\n",
       "      <td>92</td>\n",
       "      <td>91</td>\n",
       "      <td>91.4</td>\n",
       "    </tr>\n",
       "    <tr>\n",
       "      <th>4</th>\n",
       "      <td>KNN</td>\n",
       "      <td>89</td>\n",
       "      <td>88</td>\n",
       "      <td>91</td>\n",
       "      <td>90</td>\n",
       "      <td>89</td>\n",
       "      <td>89.4</td>\n",
       "    </tr>\n",
       "  </tbody>\n",
       "</table>\n",
       "</div>"
      ],
      "text/plain": [
       "                 Model  Accuracy  Precision  Recall  F1-Score  ROC-AUC  \\\n",
       "0  Logistic Regression        91         89      93        91       91   \n",
       "1        Random Forest        90         91      88        90       90   \n",
       "2    Gradient Boosting        90         91      89        90       90   \n",
       "3                  SVM        91         92      91        92       91   \n",
       "4                  KNN        89         88      91        90       89   \n",
       "\n",
       "   Total_Score  \n",
       "0         91.0  \n",
       "1         89.8  \n",
       "2         90.0  \n",
       "3         91.4  \n",
       "4         89.4  "
      ]
     },
     "execution_count": 170,
     "metadata": {},
     "output_type": "execute_result"
    }
   ],
   "source": [
    "results_df = pd.DataFrame(results, columns=['Model', 'Accuracy', 'Precision', 'Recall', 'F1-Score', 'ROC-AUC','Total_Score'])\n",
    "results_df"
   ]
  },
  {
   "cell_type": "code",
   "execution_count": 171,
   "id": "83072955-15d8-4ce1-99e2-090c9ac46b6f",
   "metadata": {},
   "outputs": [
    {
     "data": {
      "image/png": "[encoded data removed]",
      "text/plain": [
       "<Figure size 1000x600 with 1 Axes>"
      ]
     },
     "metadata": {},
     "output_type": "display_data"
    }
   ],
   "source": [
    "plt.figure(figsize=(10, 6))\n",
    "sns.barplot(x='Model', y='Total_Score', data=results_df)\n",
    "plt.title('Accuracy of Different Models')\n",
    "plt.ylim(0, 100)\n",
    "plt.show()"
   ]
  },
  {
   "cell_type": "code",
   "execution_count": 178,
   "id": "484469f4-10d8-42ab-a0fe-326cc2d21598",
   "metadata": {},
   "outputs": [],
   "source": [
    "#SVM Algorithms scored the highest with Total Score of 91.4%"
   ]
  },
  {
   "cell_type": "code",
   "execution_count": 179,
   "id": "f2c6f866-32a6-412c-9b15-11a870f5519f",
   "metadata": {},
   "outputs": [],
   "source": [
    "model = SVC(random_state=42)\n",
    "model.fit(X_train, y_train)\n",
    "y_pred = model.predict(X_test)"
   ]
  },
  {
   "cell_type": "code",
   "execution_count": 180,
   "id": "be5eb203-1a3a-421f-bacd-01bddee4def2",
   "metadata": {},
   "outputs": [
    {
     "data": {
      "text/html": [
       "<div>\n",
       "<style scoped>\n",
       "    .dataframe tbody tr th:only-of-type {\n",
       "        vertical-align: middle;\n",
       "    }\n",
       "\n",
       "    .dataframe tbody tr th {\n",
       "        vertical-align: top;\n",
       "    }\n",
       "\n",
       "    .dataframe thead th {\n",
       "        text-align: right;\n",
       "    }\n",
       "</style>\n",
       "<table border=\"1\" class=\"dataframe\">\n",
       "  <thead>\n",
       "    <tr style=\"text-align: right;\">\n",
       "      <th></th>\n",
       "      <th>footfall</th>\n",
       "      <th>tempMode</th>\n",
       "      <th>AQ</th>\n",
       "      <th>USS</th>\n",
       "      <th>CS</th>\n",
       "      <th>VOC</th>\n",
       "      <th>RP</th>\n",
       "      <th>IP</th>\n",
       "      <th>Temperature</th>\n",
       "      <th>fail</th>\n",
       "    </tr>\n",
       "  </thead>\n",
       "  <tbody>\n",
       "    <tr>\n",
       "      <th>0</th>\n",
       "      <td>0</td>\n",
       "      <td>7</td>\n",
       "      <td>7</td>\n",
       "      <td>1</td>\n",
       "      <td>6</td>\n",
       "      <td>6</td>\n",
       "      <td>36</td>\n",
       "      <td>3</td>\n",
       "      <td>1</td>\n",
       "      <td>1</td>\n",
       "    </tr>\n",
       "    <tr>\n",
       "      <th>1</th>\n",
       "      <td>190</td>\n",
       "      <td>1</td>\n",
       "      <td>3</td>\n",
       "      <td>3</td>\n",
       "      <td>5</td>\n",
       "      <td>1</td>\n",
       "      <td>20</td>\n",
       "      <td>4</td>\n",
       "      <td>1</td>\n",
       "      <td>0</td>\n",
       "    </tr>\n",
       "    <tr>\n",
       "      <th>2</th>\n",
       "      <td>31</td>\n",
       "      <td>7</td>\n",
       "      <td>2</td>\n",
       "      <td>2</td>\n",
       "      <td>6</td>\n",
       "      <td>1</td>\n",
       "      <td>24</td>\n",
       "      <td>6</td>\n",
       "      <td>1</td>\n",
       "      <td>0</td>\n",
       "    </tr>\n",
       "    <tr>\n",
       "      <th>3</th>\n",
       "      <td>83</td>\n",
       "      <td>4</td>\n",
       "      <td>3</td>\n",
       "      <td>4</td>\n",
       "      <td>5</td>\n",
       "      <td>1</td>\n",
       "      <td>28</td>\n",
       "      <td>6</td>\n",
       "      <td>1</td>\n",
       "      <td>0</td>\n",
       "    </tr>\n",
       "    <tr>\n",
       "      <th>4</th>\n",
       "      <td>640</td>\n",
       "      <td>7</td>\n",
       "      <td>5</td>\n",
       "      <td>6</td>\n",
       "      <td>4</td>\n",
       "      <td>0</td>\n",
       "      <td>68</td>\n",
       "      <td>6</td>\n",
       "      <td>1</td>\n",
       "      <td>0</td>\n",
       "    </tr>\n",
       "  </tbody>\n",
       "</table>\n",
       "</div>"
      ],
      "text/plain": [
       "   footfall  tempMode  AQ  USS  CS  VOC  RP  IP  Temperature  fail\n",
       "0         0         7   7    1   6    6  36   3            1     1\n",
       "1       190         1   3    3   5    1  20   4            1     0\n",
       "2        31         7   2    2   6    1  24   6            1     0\n",
       "3        83         4   3    4   5    1  28   6            1     0\n",
       "4       640         7   5    6   4    0  68   6            1     0"
      ]
     },
     "execution_count": 180,
     "metadata": {},
     "output_type": "execute_result"
    }
   ],
   "source": [
    "data.head()"
   ]
  },
  {
   "cell_type": "code",
   "execution_count": 181,
   "id": "deca2cfb-2a15-47b3-b26a-62e10c8cfeb0",
   "metadata": {},
   "outputs": [],
   "source": [
    "#Lets predict by inputing custom data"
   ]
  },
  {
   "cell_type": "code",
   "execution_count": 195,
   "id": "f1b8eb6c-a09a-4ad1-a522-781f5c5fc329",
   "metadata": {},
   "outputs": [
    {
     "name": "stdout",
     "output_type": "stream",
     "text": [
      "Prediction: The machine will NOT FAIL.\n"
     ]
    }
   ],
   "source": [
    "arr = np.array([31, 4, 6, 2, 2, 1, 45, 2, 2]).reshape(1, -1)\n",
    "prediction = model.predict(arr)\n",
    "if prediction[0] == 1:\n",
    "    print(\"Prediction: The machine will FAIL.\")\n",
    "else:\n",
    "    print(\"Prediction: The machine will NOT FAIL.\")"
   ]
  },
  {
   "cell_type": "code",
   "execution_count": null,
   "id": "37b57846-59dd-4728-a9fc-1c2f60fd91fd",
   "metadata": {},
   "outputs": [],
   "source": []
  }
 ],
 "metadata": {
  "kernelspec": {
   "display_name": "Python 3 (ipykernel)",
   "language": "python",
   "name": "python3"
  },
  "language_info": {
   "codemirror_mode": {
    "name": "ipython",
    "version": 3
   },
   "file_extension": ".py",
   "mimetype": "text/x-python",
   "name": "python",
   "nbconvert_exporter": "python",
   "pygments_lexer": "ipython3",
   "version": "3.12.2"
  }
 },
 "nbformat": 4,
 "nbformat_minor": 5
}
